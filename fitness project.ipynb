{
 "cells": [
  {
   "cell_type": "markdown",
   "id": "f5eb6500",
   "metadata": {},
   "source": [
    "# Fitness Project"
   ]
  },
  {
   "cell_type": "code",
   "execution_count": 1,
   "id": "696066c8",
   "metadata": {},
   "outputs": [
    {
     "data": {
      "text/markdown": [
       "#  My Fitness Journey Project\n",
       "This interactive notebook tracks and analyzes my fitness progress over time."
      ],
      "text/plain": [
       "<IPython.core.display.Markdown object>"
      ]
     },
     "metadata": {},
     "output_type": "display_data"
    }
   ],
   "source": [
    "from IPython.display import display, Markdown\n",
    "import pandas as pd\n",
    "import matplotlib.pyplot as plt\n",
    "import numpy as np\n",
    "import datetime\n",
    "\n",
    "display(Markdown(\"#  My Fitness Journey Project\\n\"\n",
    "                 \"This interactive notebook tracks and analyzes my fitness progress over time.\"))\n"
   ]
  },
  {
   "cell_type": "code",
   "execution_count": 2,
   "id": "a8e52230",
   "metadata": {},
   "outputs": [
    {
     "data": {
      "text/markdown": [
       "## Step 1: Enter Your Profile and Goals"
      ],
      "text/plain": [
       "<IPython.core.display.Markdown object>"
      ]
     },
     "metadata": {},
     "output_type": "display_data"
    },
    {
     "data": {
      "application/vnd.jupyter.widget-view+json": {
       "model_id": "d35adb7479804cce95d11fb1b4253f37",
       "version_major": 2,
       "version_minor": 0
      },
      "text/plain": [
       "FloatText(value=75.0, description='Weight (kg):')"
      ]
     },
     "metadata": {},
     "output_type": "display_data"
    },
    {
     "data": {
      "application/vnd.jupyter.widget-view+json": {
       "model_id": "d2066533842b4b78bfd082ef08713a90",
       "version_major": 2,
       "version_minor": 0
      },
      "text/plain": [
       "FloatText(value=170.0, description='Height (cm):')"
      ]
     },
     "metadata": {},
     "output_type": "display_data"
    },
    {
     "data": {
      "application/vnd.jupyter.widget-view+json": {
       "model_id": "c0e7cdc17855498d8102d0ad8ba935f8",
       "version_major": 2,
       "version_minor": 0
      },
      "text/plain": [
       "FloatText(value=68.0, description='Goal Weight (kg):')"
      ]
     },
     "metadata": {},
     "output_type": "display_data"
    },
    {
     "data": {
      "application/vnd.jupyter.widget-view+json": {
       "model_id": "0e8ccac3efaf424d907863357e67d4c8",
       "version_major": 2,
       "version_minor": 0
      },
      "text/plain": [
       "DatePicker(value=datetime.date(2025, 8, 17), description='Goal Date:', step=1)"
      ]
     },
     "metadata": {},
     "output_type": "display_data"
    },
    {
     "data": {
      "application/vnd.jupyter.widget-view+json": {
       "model_id": "9f8267bd144148ae829c3734dda12c69",
       "version_major": 2,
       "version_minor": 0
      },
      "text/plain": [
       "interactive(children=(FloatText(value=75.0, description='Weight (kg):'), FloatText(value=170.0, description='H…"
      ]
     },
     "metadata": {},
     "output_type": "display_data"
    }
   ],
   "source": [
    "import ipywidgets as widgets\n",
    "\n",
    "# Input widgets for user profile and goals\n",
    "weight_input = widgets.FloatText(description=\"Weight (kg):\", value=75)\n",
    "height_input = widgets.FloatText(description=\"Height (cm):\", value=170)\n",
    "goal_weight_input = widgets.FloatText(description=\"Goal Weight (kg):\", value=68)\n",
    "goal_date_input = widgets.DatePicker(description='Goal Date:', value=datetime.date.today() + datetime.timedelta(days=90))\n",
    "\n",
    "def show_profile(weight, height, goal_weight, goal_date):\n",
    "    height_m = height / 100\n",
    "    bmi = weight / (height_m ** 2)\n",
    "    display(Markdown(f\"### Your Profile Summary:\\n\"\n",
    "                     f\"- Current Weight: **{weight} kg**\\n\"\n",
    "                     f\"- Height: **{height} cm**\\n\"\n",
    "                     f\"- BMI: **{bmi:.2f}**\\n\"\n",
    "                     f\"- Goal Weight: **{goal_weight} kg** by **{goal_date}**\"))\n",
    "\n",
    "display(Markdown(\"## Step 1: Enter Your Profile and Goals\"))\n",
    "display(weight_input)\n",
    "display(height_input)\n",
    "display(goal_weight_input)\n",
    "display(goal_date_input)\n",
    "\n",
    "widgets.interact(show_profile,\n",
    "                 weight=weight_input,\n",
    "                 height=height_input,\n",
    "                 goal_weight=goal_weight_input,\n",
    "                 goal_date=goal_date_input);\n"
   ]
  },
  {
   "cell_type": "code",
   "execution_count": 3,
   "id": "d5d3b1e4",
   "metadata": {},
   "outputs": [
    {
     "data": {
      "text/markdown": [
       "## Step 2: Log Your Measurements Over Time"
      ],
      "text/plain": [
       "<IPython.core.display.Markdown object>"
      ]
     },
     "metadata": {},
     "output_type": "display_data"
    },
    {
     "data": {
      "application/vnd.jupyter.widget-view+json": {
       "model_id": "38e2ceb6209347ceaf0c5c1163d33890",
       "version_major": 2,
       "version_minor": 0
      },
      "text/plain": [
       "DatePicker(value=datetime.date(2025, 5, 19), description='Date:', step=1)"
      ]
     },
     "metadata": {},
     "output_type": "display_data"
    },
    {
     "data": {
      "application/vnd.jupyter.widget-view+json": {
       "model_id": "53e340cfd25d46c58a1701f165325f44",
       "version_major": 2,
       "version_minor": 0
      },
      "text/plain": [
       "FloatText(value=0.0, description='Weight (kg):')"
      ]
     },
     "metadata": {},
     "output_type": "display_data"
    },
    {
     "data": {
      "application/vnd.jupyter.widget-view+json": {
       "model_id": "292b39e757984f539bbe9e34fb2f2f30",
       "version_major": 2,
       "version_minor": 0
      },
      "text/plain": [
       "FloatText(value=0.0, description='Chest (cm):')"
      ]
     },
     "metadata": {},
     "output_type": "display_data"
    },
    {
     "data": {
      "application/vnd.jupyter.widget-view+json": {
       "model_id": "a2dbe698c50d41e8aebad4666f9f60d2",
       "version_major": 2,
       "version_minor": 0
      },
      "text/plain": [
       "FloatText(value=0.0, description='Waist (cm):')"
      ]
     },
     "metadata": {},
     "output_type": "display_data"
    },
    {
     "data": {
      "application/vnd.jupyter.widget-view+json": {
       "model_id": "731a48c5e1fd43b492257ad3593ade21",
       "version_major": 2,
       "version_minor": 0
      },
      "text/plain": [
       "FloatText(value=0.0, description='Hips (cm):')"
      ]
     },
     "metadata": {},
     "output_type": "display_data"
    },
    {
     "data": {
      "application/vnd.jupyter.widget-view+json": {
       "model_id": "df46d4edcc64453da00ff2ac30d2efd0",
       "version_major": 2,
       "version_minor": 0
      },
      "text/plain": [
       "Button(button_style='success', description='Add Entry', style=ButtonStyle())"
      ]
     },
     "metadata": {},
     "output_type": "display_data"
    },
    {
     "data": {
      "application/vnd.jupyter.widget-view+json": {
       "model_id": "3e8093483b04458c95a8fc8db8179a89",
       "version_major": 2,
       "version_minor": 0
      },
      "text/plain": [
       "Output()"
      ]
     },
     "metadata": {},
     "output_type": "display_data"
    }
   ],
   "source": [
    "import pandas as pd\n",
    "import datetime\n",
    "import ipywidgets as widgets\n",
    "from IPython.display import display, Markdown\n",
    "\n",
    "# Load or initialize the DataFrame\n",
    "try:\n",
    "    df = pd.read_csv(\"weight_log.csv\", parse_dates=['Date'])\n",
    "except FileNotFoundError:\n",
    "    df = pd.DataFrame(columns=['Date', 'Weight (kg)', 'Chest (cm)', 'Waist (cm)', 'Hips (cm)'])\n",
    "\n",
    "# Interactive widgets\n",
    "date_picker = widgets.DatePicker(description='Date:', value=datetime.date.today())\n",
    "weight_entry = widgets.FloatText(description='Weight (kg):')\n",
    "chest_entry = widgets.FloatText(description='Chest (cm):')\n",
    "waist_entry = widgets.FloatText(description='Waist (cm):')\n",
    "hips_entry = widgets.FloatText(description='Hips (cm):')\n",
    "button_add = widgets.Button(description=\"Add Entry\", button_style='success')\n",
    "output = widgets.Output()\n",
    "\n",
    "# Function to add an entry\n",
    "def add_entry(b):\n",
    "    with output:\n",
    "        global df\n",
    "        entry = pd.DataFrame([{\n",
    "            'Date': pd.to_datetime(date_picker.value),\n",
    "            'Weight (kg)': weight_entry.value,\n",
    "            'Chest (cm)': chest_entry.value,\n",
    "            'Waist (cm)': waist_entry.value,\n",
    "            'Hips (cm)': hips_entry.value\n",
    "        }])\n",
    "        df = pd.concat([df, entry], ignore_index=True)\n",
    "        df = df.sort_values('Date')\n",
    "        df.to_csv(\"weight_log.csv\", index=False)\n",
    "        output.clear_output()\n",
    "        print(f\" Entry for {entry.iloc[0]['Date'].date()} added!\")\n",
    "        display(df.tail(5))\n",
    "\n",
    "button_add.on_click(add_entry)\n",
    "\n",
    "# Display the UI\n",
    "display(Markdown(\"## Step 2: Log Your Measurements Over Time\"))\n",
    "display(date_picker, weight_entry, chest_entry, waist_entry, hips_entry, button_add, output)\n"
   ]
  },
  {
   "cell_type": "code",
   "execution_count": 4,
   "id": "69d6060b",
   "metadata": {},
   "outputs": [
    {
     "data": {
      "text/markdown": [
       "## Step 3: Visualize Your Progress"
      ],
      "text/plain": [
       "<IPython.core.display.Markdown object>"
      ]
     },
     "metadata": {},
     "output_type": "display_data"
    },
    {
     "data": {
      "image/png": "[encoded data removed]",
      "text/plain": [
       "<Figure size 1200x600 with 1 Axes>"
      ]
     },
     "metadata": {},
     "output_type": "display_data"
    }
   ],
   "source": [
    "def plot_progress(dataframe):\n",
    "    plt.figure(figsize=(12, 6))\n",
    "    plt.plot(dataframe['Date'], dataframe['Weight (kg)'], marker='o', label='Weight (kg)')\n",
    "    plt.plot(dataframe['Date'], dataframe['Chest (cm)'], marker='s', label='Chest (cm)')\n",
    "    plt.plot(dataframe['Date'], dataframe['Waist (cm)'], marker='^', label='Waist (cm)')\n",
    "    plt.plot(dataframe['Date'], dataframe['Hips (cm)'], marker='x', label='Hips (cm)')\n",
    "    plt.title('Body Measurements Progress Over Time')\n",
    "    plt.xlabel('Date')\n",
    "    plt.ylabel('Measurement')\n",
    "    plt.legend()\n",
    "    plt.grid(True)\n",
    "    plt.xticks(rotation=45)\n",
    "    plt.tight_layout()\n",
    "    plt.show()\n",
    "\n",
    "display(Markdown(\"## Step 3: Visualize Your Progress\"))\n",
    "if not df.empty:\n",
    "    plot_progress(df)\n",
    "else:\n",
    "    print(\"No data to plot yet. Please add measurement entries.\")\n"
   ]
  },
  {
   "cell_type": "code",
   "execution_count": 5,
   "id": "d80f6e62",
   "metadata": {},
   "outputs": [
    {
     "data": {
      "text/markdown": [
       "## Step 4: Workout Tracker - Check Your Completed Workouts"
      ],
      "text/plain": [
       "<IPython.core.display.Markdown object>"
      ]
     },
     "metadata": {},
     "output_type": "display_data"
    },
    {
     "data": {
      "application/vnd.jupyter.widget-view+json": {
       "model_id": "e91c427e502447c98136286ef38857e0",
       "version_major": 2,
       "version_minor": 0
      },
      "text/plain": [
       "VBox(children=(Checkbox(value=False, description='Monday: Chest + Triceps'), Checkbox(value=False, description…"
      ]
     },
     "metadata": {},
     "output_type": "display_data"
    },
    {
     "data": {
      "application/vnd.jupyter.widget-view+json": {
       "model_id": "1db8e80061a24e558df2a42e1a8b7596",
       "version_major": 2,
       "version_minor": 0
      },
      "text/plain": [
       "Button(description='Log Completed Workouts', style=ButtonStyle())"
      ]
     },
     "metadata": {},
     "output_type": "display_data"
    },
    {
     "data": {
      "application/vnd.jupyter.widget-view+json": {
       "model_id": "c2d091c267254df98dd5edc47693f87b",
       "version_major": 2,
       "version_minor": 0
      },
      "text/plain": [
       "Output()"
      ]
     },
     "metadata": {},
     "output_type": "display_data"
    }
   ],
   "source": [
    "workout_days = ['Monday', 'Tuesday', 'Wednesday', 'Thursday', 'Friday', 'Saturday', 'Sunday']\n",
    "workout_routines = ['Chest + Triceps', 'Back + Biceps', 'Legs', 'Cardio + Core', 'Shoulders + Arms', 'Active Recovery', 'Rest']\n",
    "\n",
    "checkboxes = [widgets.Checkbox(description=f\"{day}: {routine}\", value=False) for day, routine in zip(workout_days, workout_routines)]\n",
    "log_button = widgets.Button(description=\"Log Completed Workouts\")\n",
    "workout_log_output = widgets.Output()\n",
    "\n",
    "workout_log = []\n",
    "\n",
    "def log_workouts(b):\n",
    "    workout_log_output.clear_output()\n",
    "    completed = [cb.description for cb in checkboxes if cb.value]\n",
    "    today = datetime.date.today()\n",
    "    if completed:\n",
    "        for workout in completed:\n",
    "            workout_log.append({'Date': today, 'Workout': workout})\n",
    "        with workout_log_output:\n",
    "            print(f\"Logged {len(completed)} workouts for {today}:\")\n",
    "            for c in completed:\n",
    "                print(f\" - {c}\")\n",
    "    else:\n",
    "        with workout_log_output:\n",
    "            print(\"No workouts selected to log.\")\n",
    "\n",
    "log_button.on_click(log_workouts)\n",
    "\n",
    "display(Markdown(\"## Step 4: Workout Tracker - Check Your Completed Workouts\"))\n",
    "display(widgets.VBox(checkboxes))\n",
    "display(log_button)\n",
    "display(workout_log_output)\n"
   ]
  },
  {
   "cell_type": "code",
   "execution_count": 6,
   "id": "f7254309",
   "metadata": {},
   "outputs": [
    {
     "data": {
      "text/markdown": [
       "## Step 5: Calories Burned vs Intake"
      ],
      "text/plain": [
       "<IPython.core.display.Markdown object>"
      ]
     },
     "metadata": {},
     "output_type": "display_data"
    },
    {
     "data": {
      "image/png": "[encoded data removed]",
      "text/plain": [
       "<Figure size 1000x500 with 1 Axes>"
      ]
     },
     "metadata": {},
     "output_type": "display_data"
    }
   ],
   "source": [
    "calorie_dates = pd.date_range(start=datetime.date.today() - datetime.timedelta(days=6), periods=7)\n",
    "calories_burned = np.random.randint(400, 700, size=7)\n",
    "calories_intake = np.random.randint(1800, 2500, size=7)\n",
    "\n",
    "calorie_df = pd.DataFrame({\n",
    "    'Date': calorie_dates,\n",
    "    'Calories Burned': calories_burned,\n",
    "    'Calories Intake': calories_intake\n",
    "})\n",
    "\n",
    "def plot_calories(df):\n",
    "    plt.figure(figsize=(10, 5))\n",
    "    plt.plot(df['Date'], df['Calories Burned'], label='Calories Burned', marker='o', color='red')\n",
    "    plt.plot(df['Date'], df['Calories Intake'], label='Calories Intake', marker='s', color='green')\n",
    "    plt.title(\"Calories Burned vs Intake (Last 7 Days)\")\n",
    "    plt.xlabel(\"Date\")\n",
    "    plt.ylabel(\"Calories\")\n",
    "    plt.legend()\n",
    "    plt.grid(True)\n",
    "    plt.xticks(rotation=45)\n",
    "    plt.tight_layout()\n",
    "    plt.show()\n",
    "\n",
    "display(Markdown(\"## Step 5: Calories Burned vs Intake\"))\n",
    "plot_calories(calorie_df)\n"
   ]
  },
  {
   "cell_type": "code",
   "execution_count": 7,
   "id": "8cee1b56",
   "metadata": {},
   "outputs": [
    {
     "data": {
      "text/markdown": [
       "## Step 6: Get a Summary Report"
      ],
      "text/plain": [
       "<IPython.core.display.Markdown object>"
      ]
     },
     "metadata": {},
     "output_type": "display_data"
    },
    {
     "name": "stdout",
     "output_type": "stream",
     "text": [
      "### Progress Summary\n",
      "- Starting Weight: 54.0 kg\n",
      "- Current Weight: 75.0 kg\n",
      "- Weight Lost So Far: -21.0 kg\n",
      "- Remaining Weight to Goal: 7.0 kg\n",
      "- Days Left to Reach Goal: 90 days\n",
      "- Average Weight Loss Needed Per Day: 0.078 kg\n"
     ]
    }
   ],
   "source": [
    "def summary_report(df, current_weight, goal_weight, goal_date):\n",
    "    if df.empty:\n",
    "        print(\"No progress data available.\")\n",
    "        return\n",
    "    last_entry = df.iloc[-1]\n",
    "    start_weight = df.iloc[0]['Weight (kg)']\n",
    "    progress = start_weight - last_entry['Weight (kg)']\n",
    "    remaining = last_entry['Weight (kg)'] - goal_weight\n",
    "    days_left = (goal_date - last_entry['Date'].date()).days\n",
    "    \n",
    "    print(\"### Progress Summary\")\n",
    "    print(f\"- Starting Weight: {start_weight:.1f} kg\")\n",
    "    print(f\"- Current Weight: {last_entry['Weight (kg)']:.1f} kg\")\n",
    "    print(f\"- Weight Lost So Far: {progress:.1f} kg\")\n",
    "    print(f\"- Remaining Weight to Goal: {remaining:.1f} kg\")\n",
    "    print(f\"- Days Left to Reach Goal: {days_left} days\")\n",
    "    \n",
    "    if days_left <= 0:\n",
    "        print(\"Goal date has passed. Time to update your goals or review your plan!\")\n",
    "    elif remaining <= 0:\n",
    "        print(\"Congratulations! You have reached your goal weight.\")\n",
    "    else:\n",
    "        avg_loss_needed = remaining / days_left\n",
    "        print(f\"- Average Weight Loss Needed Per Day: {avg_loss_needed:.3f} kg\")\n",
    "\n",
    "display(Markdown(\"## Step 6: Get a Summary Report\"))\n",
    "summary_report(df, weight_input.value, goal_weight_input.value, goal_date_input.value)\n"
   ]
  },
  {
   "cell_type": "code",
   "execution_count": 8,
   "id": "ffabf413",
   "metadata": {},
   "outputs": [
    {
     "data": {
      "text/markdown": [
       "## Step 7: Calculate Your BMI"
      ],
      "text/plain": [
       "<IPython.core.display.Markdown object>"
      ]
     },
     "metadata": {},
     "output_type": "display_data"
    },
    {
     "data": {
      "application/vnd.jupyter.widget-view+json": {
       "model_id": "57bb32adf2ca4876abd4032987cb1025",
       "version_major": 2,
       "version_minor": 0
      },
      "text/plain": [
       "interactive(children=(FloatSlider(value=75.0, description='weight', max=150.0, min=30.0), FloatSlider(value=17…"
      ]
     },
     "metadata": {},
     "output_type": "display_data"
    },
    {
     "data": {
      "text/plain": [
       "<function __main__.bmi_calc(weight, height)>"
      ]
     },
     "execution_count": 8,
     "metadata": {},
     "output_type": "execute_result"
    }
   ],
   "source": [
    "from ipywidgets import interact, FloatSlider\n",
    "\n",
    "def bmi_calc(weight, height):\n",
    "    height_m = height / 100\n",
    "    bmi = weight / (height_m**2)\n",
    "    if bmi < 18.5:\n",
    "        status = \"Underweight\"\n",
    "    elif bmi < 25:\n",
    "        status = \"Normal weight\"\n",
    "    elif bmi < 30:\n",
    "        status = \"Overweight\"\n",
    "    else:\n",
    "        status = \"Obese\"\n",
    "    print(f\"BMI: {bmi:.2f} ({status})\")\n",
    "\n",
    "display(Markdown(\"## Step 7: Calculate Your BMI\"))\n",
    "interact(bmi_calc, weight=FloatSlider(min=30, max=150, step=0.1, value=weight_input.value),\n",
    "         height=FloatSlider(min=100, max=220, step=0.1, value=height_input.value))\n"
   ]
  },
  {
   "cell_type": "code",
   "execution_count": 9,
   "id": "e171e9ac",
   "metadata": {},
   "outputs": [
    {
     "data": {
      "text/markdown": [
       "## Step 8: Export Workout Log"
      ],
      "text/plain": [
       "<IPython.core.display.Markdown object>"
      ]
     },
     "metadata": {},
     "output_type": "display_data"
    },
    {
     "name": "stdout",
     "output_type": "stream",
     "text": [
      "Workout log exported to 'workout_log.csv'.\n"
     ]
    }
   ],
   "source": [
    "def export_workout_log(log, filename=\"workout_log.csv\"):\n",
    "    if not log:\n",
    "        print(\"No workouts logged yet.\")\n",
    "        return\n",
    "    df_log = pd.DataFrame(log)\n",
    "    df_log.to_csv(filename, index=False)\n",
    "    print(f\"Workout log exported to '{filename}'.\")\n",
    "\n",
    "display(Markdown(\"## Step 8: Export Workout Log\"))\n",
    "export_workout_log(workout_log)\n"
   ]
  },
  {
   "cell_type": "code",
   "execution_count": 10,
   "id": "4e9a35ad",
   "metadata": {},
   "outputs": [
    {
     "data": {
      "text/markdown": [
       "## Final Motivation Quote"
      ],
      "text/plain": [
       "<IPython.core.display.Markdown object>"
      ]
     },
     "metadata": {},
     "output_type": "display_data"
    },
    {
     "data": {
      "text/markdown": [
       "> The only bad workout is the one that didn’t happen."
      ],
      "text/plain": [
       "<IPython.core.display.Markdown object>"
      ]
     },
     "metadata": {},
     "output_type": "display_data"
    }
   ],
   "source": [
    "import random\n",
    "\n",
    "quotes = [\n",
    "    \"Push yourself because no one else is going to do it for you.\",\n",
    "    \"Success doesn’t come from what you do occasionally, it comes from what you do consistently.\",\n",
    "    \"The only bad workout is the one that didn’t happen.\",\n",
    "    \"Discipline is choosing between what you want now and what you want most.\",\n",
    "    \"Fall in love with taking care of yourself.\"\n",
    "]\n",
    "\n",
    "display(Markdown(\"## Final Motivation Quote\"))\n",
    "display(Markdown(f\"> {random.choice(quotes)}\"))\n"
   ]
  },
  {
   "cell_type": "code",
   "execution_count": null,
   "id": "f62a2f55",
   "metadata": {},
   "outputs": [
    {
     "name": "stdout",
     "output_type": "stream",
     "text": [
      "Data loaded successfully!\n",
      "Welcome to the Advanced Calorie Tracker!\n",
      "\n",
      "Choose an option:\n",
      "1. Add a Meal\n",
      "2. Edit a Meal\n",
      "3. Delete a Meal\n",
      "4. View Meals for a Date\n",
      "5. Display Summary for a Date\n",
      "6. Generate Weekly Calorie Trend\n",
      "7. Calculate Calories for Weight Maintenance/Deficit\n",
      "8. Save and Exit\n"
     ]
    }
   ],
   "source": [
    "import matplotlib.pyplot as plt\n",
    "\n",
    "def load_data():\n",
    "    print(\"Data loaded successfully!\")\n",
    "\n",
    "def save_data():\n",
    "    print(\"Data saved successfully!\")\n",
    "\n",
    "def add_meal(date, meal_name, calories):\n",
    "    print(f\"Meal '{meal_name}' with {calories} calories added for {date}.\")\n",
    "\n",
    "def edit_meal(date, meal_name, new_calories):\n",
    "    print(f\"Meal '{meal_name}' updated to {new_calories} calories for {date}.\")\n",
    "\n",
    "def delete_meal(date, meal_name):\n",
    "    print(f\"Meal '{meal_name}' deleted for {date}.\")\n",
    "\n",
    "def view_meals(date):\n",
    "    print(f\"Displaying meals for {date}.\")\n",
    "\n",
    "def display_summary(date):\n",
    "    meals = {\"Breakfast\": 300, \"Lunch\": 600, \"Dinner\": 500, \"Snacks\": 200}\n",
    "    print(f\"Summary for {date}:\")\n",
    "    for meal, calories in meals.items():\n",
    "        print(f\"{meal}: {calories} kcal\")\n",
    "    \n",
    "    plt.bar(meals.keys(), meals.values(), color=['blue', 'green', 'red', 'orange'])\n",
    "    plt.xlabel(\"Meal\")\n",
    "    plt.ylabel(\"Calories\")\n",
    "    plt.title(f\"Calorie Intake on {date}\")\n",
    "    plt.show()\n",
    "\n",
    "def weekly_trend(start_date, end_date):\n",
    "    dates = [\"Day 1\", \"Day 2\", \"Day 3\", \"Day 4\", \"Day 5\", \"Day 6\", \"Day 7\"]\n",
    "    calories = [1800, 2000, 1750, 1900, 2100, 1950, 1850]\n",
    "    plt.plot(dates, calories, marker='o', linestyle='-', color='b')\n",
    "    plt.xlabel(\"Date\")\n",
    "    plt.ylabel(\"Calories Consumed\")\n",
    "    plt.title(f\"Weekly Calorie Trend ({start_date} to {end_date})\")\n",
    "    plt.show()\n",
    "\n",
    "def calculate_calories(height, weight, age, gender, activity_level):\n",
    "    if gender.lower() == \"male\":\n",
    "        bmr = 10 * weight + 6.25 * height - 5 * age + 5\n",
    "    else:\n",
    "        bmr = 10 * weight + 6.25 * height - 5 * age - 161\n",
    "    \n",
    "    activity_multipliers = {\n",
    "        \"sedentary\": 1.2,\n",
    "        \"light\": 1.375,\n",
    "        \"moderate\": 1.55,\n",
    "        \"active\": 1.725,\n",
    "        \"very_active\": 1.9\n",
    "    }\n",
    "    \n",
    "    if activity_level in activity_multipliers:\n",
    "        daily_calories = bmr * activity_multipliers[activity_level]\n",
    "        print(f\"Your daily calorie requirement is approximately {daily_calories:.2f} kcal.\")\n",
    "    else:\n",
    "        print(\"Invalid activity level entered.\")\n",
    "\n",
    "def main():\n",
    "    load_data()\n",
    "    print(\"Welcome to the Advanced Calorie Tracker!\")\n",
    "\n",
    "    while True:\n",
    "        print(\"\\nChoose an option:\")\n",
    "        print(\"1. Add a Meal\")\n",
    "        print(\"2. Edit a Meal\")\n",
    "        print(\"3. Delete a Meal\")\n",
    "        print(\"4. View Meals for a Date\")\n",
    "        print(\"5. Display Summary for a Date\")\n",
    "        print(\"6. Generate Weekly Calorie Trend\")\n",
    "        print(\"7. Calculate Calories for Weight Maintenance/Deficit\")\n",
    "        print(\"8. Save and Exit\")\n",
    "        \n",
    "        choice = input(\"Enter your choice (1-8): \")\n",
    "\n",
    "        if choice == \"1\":\n",
    "            date = input(\"Enter the date (YYYY-MM-DD): \")\n",
    "            meal_name = input(\"Enter the meal name: \")\n",
    "            try:\n",
    "                calories = int(input(\"Enter the calories: \"))\n",
    "                add_meal(date, meal_name, calories)\n",
    "            except ValueError:\n",
    "                print(\"Invalid calorie input. Please enter a valid number.\")\n",
    "        elif choice == \"2\":\n",
    "            date = input(\"Enter the date (YYYY-MM-DD): \")\n",
    "            meal_name = input(\"Enter the meal name to edit: \")\n",
    "            try:\n",
    "                new_calories = int(input(\"Enter the new calorie value: \"))\n",
    "                edit_meal(date, meal_name, new_calories)\n",
    "            except ValueError:\n",
    "                print(\"Invalid calorie input. Please enter a valid number.\")\n",
    "        elif choice == \"3\":\n",
    "            date = input(\"Enter the date (YYYY-MM-DD): \")\n",
    "            meal_name = input(\"Enter the meal name to delete: \")\n",
    "            delete_meal(date, meal_name)\n",
    "        elif choice == \"4\":\n",
    "            date = input(\"Enter the date (YYYY-MM-DD): \")\n",
    "            view_meals(date)\n",
    "        elif choice == \"5\":\n",
    "            date = input(\"Enter the date (YYYY-MM-DD): \")\n",
    "            display_summary(date)\n",
    "        elif choice == \"6\":\n",
    "            start_date = input(\"Enter the start date (YYYY-MM-DD): \")\n",
    "            end_date = input(\"Enter the end date (YYYY-MM-DD): \")\n",
    "            weekly_trend(start_date, end_date)\n",
    "        elif choice == \"7\":\n",
    "            height = float(input(\"Enter your height in cm: \"))\n",
    "            weight = float(input(\"Enter your weight in kg: \"))\n",
    "            age = int(input(\"Enter your age: \"))\n",
    "            gender = input(\"Enter your gender (male/female): \")\n",
    "            activity_level = input(\"Enter your activity level (sedentary, light, moderate, active, very_active): \")\n",
    "            calculate_calories(height, weight, age, gender, activity_level)\n",
    "        elif choice == \"8\":\n",
    "            save_data()\n",
    "            print(\"Exiting...\")\n",
    "            break\n",
    "        else:\n",
    "            print(\"Invalid choice. Please choose a valid option (1-8).\")\n",
    "\n",
    "if __name__ == \"__main__\":\n",
    "    main()\n"
   ]
  },
  {
   "cell_type": "code",
   "execution_count": 11,
   "id": "d6695349",
   "metadata": {},
   "outputs": [
    {
     "data": {
      "text/markdown": [
       "\n",
       "---\n",
       "## Contact Me\n",
       "\n",
       "Email: [swapnilchavan211101@gmail.com](mailto:nill@example.com)  \n",
       "LinkedIn: [https://www.linkedin.com/in/swapnil-chavan-30033015a/](https://linkedin.com/in/nill)  \n",
       "GitHub: [https://github.com/swapniiiil21](https://github.com/nill)  \n",
       "\n",
       "Feel free to connect and discuss fitness or projects!\n",
       "\n",
       "---\n"
      ],
      "text/plain": [
       "<IPython.core.display.Markdown object>"
      ]
     },
     "metadata": {},
     "output_type": "display_data"
    }
   ],
   "source": [
    "display(Markdown(\"\"\"\n",
    "---\n",
    "## Contact Me\n",
    "\n",
    "Email: [swapnilchavan211101@gmail.com](mailto:nill@example.com)  \n",
    "LinkedIn: [https://www.linkedin.com/in/swapnil-chavan-30033015a/](https://linkedin.com/in/nill)  \n",
    "GitHub: [https://github.com/swapniiiil21](https://github.com/nill)  \n",
    "\n",
    "Feel free to connect and discuss fitness or projects!\n",
    "\n",
    "---\n",
    "\"\"\"))\n"
   ]
  },
  {
   "cell_type": "code",
   "execution_count": null,
   "id": "dc451fcd",
   "metadata": {},
   "outputs": [],
   "source": []
  }
 ],
 "metadata": {
  "kernelspec": {
   "display_name": "Python 3 (ipykernel)",
   "language": "python",
   "name": "python3"
  },
  "language_info": {
   "codemirror_mode": {
    "name": "ipython",
    "version": 3
   },
   "file_extension": ".py",
   "mimetype": "text/x-python",
   "name": "python",
   "nbconvert_exporter": "python",
   "pygments_lexer": "ipython3",
   "version": "3.11.5"
  }
 },
 "nbformat": 4,
 "nbformat_minor": 5
}
